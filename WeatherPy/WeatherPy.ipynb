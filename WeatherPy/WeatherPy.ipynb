{
 "cells": [
  {
   "cell_type": "markdown",
   "metadata": {},
   "source": [
    "# WeatherPy\n",
    "----\n",
    "\n",
    "#### Note\n",
    "* Instructions have been included for each segment. You do not have to follow them exactly, but they are included to help you think through the steps."
   ]
  },
  {
   "cell_type": "code",
   "execution_count": 1,
   "metadata": {
    "scrolled": true
   },
   "outputs": [],
   "source": [
    "# Dependencies and Setup\n",
    "import matplotlib.pyplot as plt\n",
    "import pandas as pd\n",
    "import numpy as np\n",
    "import requests\n",
    "import time\n",
    "from scipy.stats import linregress\n",
    "import json\n",
    "import os\n",
    "\n",
    "#filepath = \"../api_keys\"\n",
    "# Import API key\n",
    "from api_keys import open_weather_key\n",
    "\n",
    "# Incorporated citipy to determine city based on latitude and longitude\n",
    "from citipy import citipy\n",
    "\n",
    "\n",
    "# Range of latitudes and longitudes\n",
    "lat_range = (-90, 90)\n",
    "lng_range = (-180, 180)"
   ]
  },
  {
   "cell_type": "markdown",
   "metadata": {},
   "source": [
    "## Generate Cities List"
   ]
  },
  {
   "cell_type": "code",
   "execution_count": 2,
   "metadata": {},
   "outputs": [
    {
     "data": {
      "text/plain": [
       "592"
      ]
     },
     "execution_count": 2,
     "metadata": {},
     "output_type": "execute_result"
    }
   ],
   "source": [
    "# List for holding lat_lngs and cities\n",
    "lat_lngs = []\n",
    "cities = []\n",
    "\n",
    "# Create a set of random lat and lng combinations\n",
    "lats = np.random.uniform(low=-90.000, high=90.000, size=1500)\n",
    "lngs = np.random.uniform(low=-180.000, high=180.000, size=1500)\n",
    "lat_lngs = zip(lats, lngs)\n",
    "\n",
    "# Identify nearest city for each lat, lng combination\n",
    "for lat_lng in lat_lngs:\n",
    "    city = citipy.nearest_city(lat_lng[0], lat_lng[1]).city_name\n",
    "    \n",
    "    # If the city is unique, then add it to a our cities list\n",
    "    if city not in cities:\n",
    "        cities.append(city)\n",
    "\n",
    "# Print the city count to confirm sufficient count\n",
    "len(cities)"
   ]
  },
  {
   "cell_type": "markdown",
   "metadata": {},
   "source": [
    "### Perform API Calls\n",
    "* Perform a weather check on each city using a series of successive API calls.\n",
    "* Include a print log of each city as it'sbeing processed (with the city number and city name).\n"
   ]
  },
  {
   "cell_type": "code",
   "execution_count": 3,
   "metadata": {},
   "outputs": [
    {
     "data": {
      "text/plain": [
       "{'coord': {'lon': -113.58, 'lat': 37.1},\n",
       " 'weather': [{'id': 500,\n",
       "   'main': 'Rain',\n",
       "   'description': 'light rain',\n",
       "   'icon': '10n'}],\n",
       " 'base': 'stations',\n",
       " 'main': {'temp': 46.56,\n",
       "  'feels_like': 43.43,\n",
       "  'temp_min': 37,\n",
       "  'temp_max': 48.99,\n",
       "  'pressure': 1013,\n",
       "  'humidity': 93},\n",
       " 'visibility': 16093,\n",
       " 'wind': {'speed': 3.36, 'deg': 20},\n",
       " 'rain': {'1h': 0.25},\n",
       " 'clouds': {'all': 90},\n",
       " 'dt': 1584157038,\n",
       " 'sys': {'type': 1,\n",
       "  'id': 5832,\n",
       "  'country': 'US',\n",
       "  'sunrise': 1584107247,\n",
       "  'sunset': 1584149996},\n",
       " 'timezone': -21600,\n",
       " 'id': 5546220,\n",
       " 'name': 'Saint George',\n",
       " 'cod': 200}"
      ]
     },
     "execution_count": 3,
     "metadata": {},
     "output_type": "execute_result"
    }
   ],
   "source": [
    "#define base and query URL\n",
    "units = \"imperial\"\n",
    "url = \"http://api.openweathermap.org/data/2.5/weather?\"\n",
    "query_url = f\"{url}appid={open_weather_key}&q={cities[0]}&units={units}\"\n",
    "\n",
    "#get response\n",
    "response = requests.get(query_url).json()\n",
    "\n",
    "#print response and analyze format\n",
    "response\n"
   ]
  },
  {
   "cell_type": "code",
   "execution_count": null,
   "metadata": {},
   "outputs": [
    {
     "name": "stdout",
     "output_type": "stream",
     "text": [
      "Processing Record 1 of Set 1 | saint george\n",
      "Processing Record 2 of Set 1 | cape town\n",
      "Processing Record 3 of Set 1 | muros\n",
      "Processing Record 4 of Set 1 | albany\n",
      "Processing Record 5 of Set 1 | mendahara\n",
      "City not found. Skipping ...\n",
      "Processing Record 6 of Set 1 | lolua\n",
      "City not found. Skipping ...\n",
      "Processing Record 7 of Set 1 | jamestown\n",
      "Processing Record 8 of Set 1 | georgetown\n",
      "Processing Record 9 of Set 1 | belushya guba\n",
      "City not found. Skipping ...\n",
      "Processing Record 10 of Set 1 | gaozhou\n",
      "Processing Record 11 of Set 1 | mataura\n",
      "Processing Record 12 of Set 1 | henties bay\n",
      "Processing Record 13 of Set 1 | bredasdorp\n",
      "Processing Record 14 of Set 1 | illoqqortoormiut\n",
      "City not found. Skipping ...\n",
      "Processing Record 15 of Set 1 | atuona\n",
      "Processing Record 16 of Set 1 | mahebourg\n",
      "Processing Record 17 of Set 1 | ushuaia\n",
      "Processing Record 18 of Set 1 | khandbari\n",
      "Processing Record 19 of Set 1 | palencia\n",
      "Processing Record 20 of Set 1 | souillac\n",
      "Processing Record 21 of Set 1 | lebu\n",
      "Processing Record 22 of Set 1 | bluff\n",
      "Processing Record 23 of Set 1 | torbay\n",
      "Processing Record 24 of Set 1 | kruisfontein\n",
      "Processing Record 25 of Set 1 | manaure\n",
      "Processing Record 26 of Set 1 | piopio\n",
      "Processing Record 27 of Set 1 | plettenberg bay\n",
      "Processing Record 28 of Set 1 | hilo\n",
      "Processing Record 29 of Set 1 | port alfred\n",
      "Processing Record 30 of Set 1 | grand gaube\n",
      "Processing Record 31 of Set 1 | tasiilaq\n",
      "Processing Record 32 of Set 1 | san quintin\n",
      "Processing Record 33 of Set 1 | fuxin\n",
      "Processing Record 34 of Set 1 | nikolskoye\n",
      "Processing Record 35 of Set 1 | srednekolymsk\n",
      "Processing Record 36 of Set 1 | hasaki\n",
      "Processing Record 37 of Set 1 | komsomolskiy\n",
      "Processing Record 38 of Set 1 | ponta do sol\n",
      "Processing Record 39 of Set 1 | pitimbu\n",
      "Processing Record 40 of Set 1 | husavik\n",
      "Processing Record 41 of Set 1 | kapaa\n",
      "Processing Record 42 of Set 1 | mapastepec\n",
      "Processing Record 43 of Set 1 | kaitangata\n",
      "Processing Record 44 of Set 1 | new norfolk\n",
      "Processing Record 45 of Set 1 | kalmunai\n",
      "Processing Record 46 of Set 1 | jaipur hat\n",
      "City not found. Skipping ...\n",
      "Processing Record 47 of Set 1 | namibe\n",
      "Processing Record 48 of Set 1 | serafimovich\n",
      "Processing Record 49 of Set 1 | lavrentiya\n",
      "Processing Record 50 of Set 1 | avarua\n",
      "Processing Record 1 of Set 2 | sobolevo\n",
      "Processing Record 2 of Set 2 | saint-philippe\n",
      "Processing Record 3 of Set 2 | tuktoyaktuk\n",
      "Processing Record 4 of Set 2 | parrita\n",
      "Processing Record 5 of Set 2 | amapa\n",
      "Processing Record 6 of Set 2 | mar del plata\n",
      "Processing Record 7 of Set 2 | khatanga\n",
      "Processing Record 8 of Set 2 | punta arenas\n",
      "Processing Record 9 of Set 2 | butaritari\n",
      "Processing Record 10 of Set 2 | oistins\n",
      "Processing Record 11 of Set 2 | muli\n",
      "Processing Record 12 of Set 2 | atambua\n",
      "Processing Record 13 of Set 2 | aguada de pasajeros\n",
      "Processing Record 14 of Set 2 | sentyabrskiy\n",
      "City not found. Skipping ...\n",
      "Processing Record 15 of Set 2 | oriximina\n",
      "Processing Record 16 of Set 2 | severo-kurilsk\n",
      "Processing Record 17 of Set 2 | taolanaro\n",
      "City not found. Skipping ...\n",
      "Processing Record 18 of Set 2 | qaanaaq\n",
      "Processing Record 19 of Set 2 | tabiauea\n",
      "City not found. Skipping ...\n",
      "Processing Record 20 of Set 2 | lagoa\n",
      "Processing Record 21 of Set 2 | colomi\n",
      "Processing Record 22 of Set 2 | kambove\n",
      "Processing Record 23 of Set 2 | poum\n",
      "Processing Record 24 of Set 2 | aklavik\n",
      "Processing Record 25 of Set 2 | mayumba\n",
      "Processing Record 26 of Set 2 | vila velha\n",
      "Processing Record 27 of Set 2 | boyuibe\n",
      "Processing Record 28 of Set 2 | busselton\n",
      "Processing Record 29 of Set 2 | gamba\n",
      "Processing Record 30 of Set 2 | roald\n",
      "Processing Record 31 of Set 2 | pevek\n",
      "Processing Record 32 of Set 2 | tuatapere\n",
      "Processing Record 33 of Set 2 | hobart\n",
      "Processing Record 34 of Set 2 | khromtau\n",
      "Processing Record 35 of Set 2 | barrow\n",
      "Processing Record 36 of Set 2 | non thai\n",
      "Processing Record 37 of Set 2 | kokoda\n",
      "Processing Record 38 of Set 2 | pisco\n",
      "Processing Record 39 of Set 2 | ajra\n",
      "Processing Record 40 of Set 2 | toliary\n",
      "City not found. Skipping ...\n",
      "Processing Record 41 of Set 2 | amarante do maranhao\n",
      "Processing Record 42 of Set 2 | quatre cocos\n",
      "Processing Record 43 of Set 2 | de aar\n",
      "Processing Record 44 of Set 2 | mikkeli\n",
      "Processing Record 45 of Set 2 | port elizabeth\n",
      "Processing Record 46 of Set 2 | ayolas\n",
      "Processing Record 47 of Set 2 | east london\n",
      "Processing Record 48 of Set 2 | saleaula\n",
      "City not found. Skipping ...\n",
      "Processing Record 49 of Set 2 | nara\n",
      "Processing Record 50 of Set 2 | xining\n",
      "Processing Record 1 of Set 3 | ancud\n",
      "Processing Record 2 of Set 3 | mangrol\n",
      "Processing Record 3 of Set 3 | havoysund\n",
      "Processing Record 4 of Set 3 | vawkavysk\n",
      "Processing Record 5 of Set 3 | loukhi\n",
      "Processing Record 6 of Set 3 | keetmanshoop\n",
      "Processing Record 7 of Set 3 | qasigiannguit\n",
      "Processing Record 8 of Set 3 | chuy\n",
      "Processing Record 9 of Set 3 | adrar\n",
      "Processing Record 10 of Set 3 | santa isabel do rio negro\n",
      "Processing Record 11 of Set 3 | tucuma\n",
      "Processing Record 12 of Set 3 | narrabri\n",
      "Processing Record 13 of Set 3 | rio grande\n",
      "Processing Record 14 of Set 3 | innisfail\n",
      "Processing Record 15 of Set 3 | margate\n",
      "Processing Record 16 of Set 3 | cabedelo\n",
      "Processing Record 17 of Set 3 | faanui\n",
      "Processing Record 18 of Set 3 | santo nino\n",
      "Processing Record 19 of Set 3 | ilulissat\n",
      "Processing Record 20 of Set 3 | rikitea\n",
      "Processing Record 21 of Set 3 | ahipara\n",
      "Processing Record 22 of Set 3 | beyneu\n",
      "Processing Record 23 of Set 3 | puerto ayora\n",
      "Processing Record 24 of Set 3 | buariki\n",
      "City not found. Skipping ...\n",
      "Processing Record 25 of Set 3 | hithadhoo\n",
      "Processing Record 26 of Set 3 | rio gallegos\n",
      "Processing Record 27 of Set 3 | half moon bay\n",
      "Processing Record 28 of Set 3 | arraial do cabo\n",
      "Processing Record 29 of Set 3 | bengkalis\n",
      "City not found. Skipping ...\n",
      "Processing Record 30 of Set 3 | bathsheba\n",
      "Processing Record 31 of Set 3 | acapulco\n",
      "Processing Record 32 of Set 3 | barentsburg\n",
      "City not found. Skipping ...\n",
      "Processing Record 33 of Set 3 | bubaque\n",
      "Processing Record 34 of Set 3 | thompson\n",
      "Processing Record 35 of Set 3 | bambous virieux\n",
      "Processing Record 36 of Set 3 | bethel\n",
      "Processing Record 37 of Set 3 | nacozari\n",
      "Processing Record 38 of Set 3 | victoria\n",
      "Processing Record 39 of Set 3 | launceston\n",
      "Processing Record 40 of Set 3 | brae\n",
      "Processing Record 41 of Set 3 | attawapiskat\n",
      "City not found. Skipping ...\n",
      "Processing Record 42 of Set 3 | longyearbyen\n",
      "Processing Record 43 of Set 3 | hermanus\n",
      "Processing Record 44 of Set 3 | ust-kamchatsk\n",
      "City not found. Skipping ...\n",
      "Processing Record 45 of Set 3 | guerrero negro\n",
      "Processing Record 46 of Set 3 | fort smith\n",
      "Processing Record 47 of Set 3 | carnarvon\n",
      "Processing Record 48 of Set 3 | nsanje\n",
      "Processing Record 49 of Set 3 | gorontalo\n",
      "Processing Record 50 of Set 3 | gladstone\n",
      "Processing Record 1 of Set 4 | naze\n",
      "Processing Record 2 of Set 4 | cururupu\n",
      "Processing Record 3 of Set 4 | fortuna\n",
      "Processing Record 4 of Set 4 | kodiak\n",
      "Processing Record 5 of Set 4 | constitucion\n",
      "Processing Record 6 of Set 4 | katsuura\n",
      "Processing Record 7 of Set 4 | lazaro cardenas\n",
      "Processing Record 8 of Set 4 | atasu\n",
      "Processing Record 9 of Set 4 | kavieng\n",
      "Processing Record 10 of Set 4 | akdepe\n",
      "Processing Record 11 of Set 4 | tautira\n",
      "Processing Record 12 of Set 4 | lorengau\n",
      "Processing Record 13 of Set 4 | digha\n",
      "Processing Record 14 of Set 4 | nuevo progreso\n",
      "Processing Record 15 of Set 4 | igboho\n",
      "Processing Record 16 of Set 4 | phibun mangsahan\n",
      "Processing Record 17 of Set 4 | constantine\n",
      "Processing Record 18 of Set 4 | los llanos de aridane\n",
      "Processing Record 19 of Set 4 | sabang\n",
      "Processing Record 20 of Set 4 | nome\n",
      "Processing Record 21 of Set 4 | ivanteyevka\n",
      "Processing Record 22 of Set 4 | vung tau\n",
      "Processing Record 23 of Set 4 | nauta\n",
      "Processing Record 24 of Set 4 | satitoa\n",
      "City not found. Skipping ...\n",
      "Processing Record 25 of Set 4 | puerto del rosario\n",
      "Processing Record 26 of Set 4 | skjervoy\n",
      "Processing Record 27 of Set 4 | vaini\n",
      "Processing Record 28 of Set 4 | sola\n",
      "Processing Record 29 of Set 4 | rolim de moura\n",
      "City not found. Skipping ...\n",
      "Processing Record 30 of Set 4 | bereda\n",
      "Processing Record 31 of Set 4 | beloha\n",
      "Processing Record 32 of Set 4 | atar\n",
      "Processing Record 33 of Set 4 | fairbanks\n",
      "Processing Record 34 of Set 4 | bull savanna\n",
      "Processing Record 35 of Set 4 | clyde river\n",
      "Processing Record 36 of Set 4 | salinopolis\n"
     ]
    },
    {
     "name": "stdout",
     "output_type": "stream",
     "text": [
      "Processing Record 37 of Set 4 | luderitz\n",
      "Processing Record 38 of Set 4 | manjacaze\n",
      "Processing Record 39 of Set 4 | neuquen\n",
      "Processing Record 40 of Set 4 | lavumisa\n",
      "Processing Record 41 of Set 4 | mergui\n",
      "City not found. Skipping ...\n",
      "Processing Record 42 of Set 4 | sechura\n",
      "Processing Record 43 of Set 4 | karratha\n",
      "Processing Record 44 of Set 4 | umzimvubu\n",
      "City not found. Skipping ...\n",
      "Processing Record 45 of Set 4 | tsihombe\n",
      "City not found. Skipping ...\n",
      "Processing Record 46 of Set 4 | hanzhong\n",
      "Processing Record 47 of Set 4 | qandala\n",
      "Processing Record 48 of Set 4 | hays\n",
      "Processing Record 49 of Set 4 | pokhara\n",
      "Processing Record 50 of Set 4 | batemans bay\n",
      "Processing Record 1 of Set 5 | vestmannaeyjar\n",
      "Processing Record 2 of Set 5 | assomada\n",
      "Processing Record 3 of Set 5 | matadi\n"
     ]
    }
   ],
   "source": [
    "#create summary dict\n",
    "data = {\"City\": [],\n",
    "       \"Cloudiness\": [],\n",
    "       \"Country\": [],\n",
    "       \"Date\": [],\n",
    "       \"Humidity\": [],\n",
    "       \"Lat\": [],\n",
    "       \"Lng\": [],\n",
    "       \"Max Temp\": [],\n",
    "       \"Wind Speed\": []}\n",
    "\n",
    "#set counts for print statment in loop\n",
    "number = 0\n",
    "sets = 1\n",
    "\n",
    "#loop through cities in list\n",
    "for item in cities:\n",
    "    try:\n",
    "        #redefine query_url and response for each city in the loop\n",
    "        query_url = f\"{url}appid={open_weather_key}&q={item}&units={units}\"\n",
    "        response = requests.get(query_url).json()\n",
    "        #update print statement count and print\n",
    "        number = number + 1\n",
    "        print(f\"Processing Record {number} of Set {sets} | {item}\")\n",
    "        #append summary dict with appropriate data\n",
    "        data[\"City\"].append(response['name'])\n",
    "        data[\"Cloudiness\"].append(response['clouds']['all'])\n",
    "        data[\"Country\"].append(response['sys']['country'])\n",
    "        data[\"Date\"].append(response['dt'])\n",
    "        data[\"Humidity\"].append(response['main']['humidity'])\n",
    "        data[\"Lat\"].append(response['coord']['lat'])\n",
    "        data[\"Lng\"].append(response['coord']['lon'])\n",
    "        data[\"Max Temp\"].append(response['main']['temp_max'])\n",
    "        data[\"Wind Speed\"].append(response['wind']['speed'])\n",
    "    #create exception\n",
    "    except:\n",
    "        print(\"City not found. Skipping ...\")\n",
    "    #reset set counts after 50 records\n",
    "    if number == 50:\n",
    "        sets = sets+1\n",
    "        number = 0\n",
    "    #limit API requests\n",
    "    time.sleep(1)"
   ]
  },
  {
   "cell_type": "markdown",
   "metadata": {},
   "source": [
    "### Convert Raw Data to DataFrame\n",
    "* Export the city data into a .csv.\n",
    "* Display the DataFrame"
   ]
  },
  {
   "cell_type": "code",
   "execution_count": null,
   "metadata": {},
   "outputs": [],
   "source": [
    "#convert summary dict to dataframe and display\n",
    "city_data_df = pd.DataFrame(data)\n",
    "city_data_df"
   ]
  },
  {
   "cell_type": "code",
   "execution_count": null,
   "metadata": {},
   "outputs": [],
   "source": [
    "#export dataframe to CSV file\n",
    "city_data_df.to_csv(\"Output/city_data.csv\",\n",
    "                  encoding=\"utf-8\", index=False, header=True)"
   ]
  },
  {
   "cell_type": "markdown",
   "metadata": {},
   "source": [
    "### Plotting the Data\n",
    "* Use proper labeling of the plots using plot titles (including date of analysis) and axes labels.\n",
    "* Save the plotted figures as .pngs."
   ]
  },
  {
   "cell_type": "markdown",
   "metadata": {},
   "source": [
    "#### Latitude vs. Temperature Plot"
   ]
  },
  {
   "cell_type": "code",
   "execution_count": null,
   "metadata": {
    "scrolled": true
   },
   "outputs": [],
   "source": [
    "#defines variable to plot\n",
    "max_temp = city_data_df[\"Max Temp\"]\n",
    "latitude = city_data_df[\"Lat\"]\n",
    "#set date\n",
    "city_data_df['Date'] = pd.to_datetime(city_data_df['Date'],unit='s')\n",
    "date = city_data_df[\"Date\"][0]\n",
    "#create plot\n",
    "plt.scatter(latitude, max_temp, s=40, c=\"slateblue\", edgecolors = \"black\", alpha = .75)\n",
    "#set labels, titles, and other styling\n",
    "plt.title(f\"City Latitude vs. Temperature ({date})\")\n",
    "plt.xlabel(\"Latitude\")\n",
    "plt.ylabel(\"Max Temp (F)\")\n",
    "plt.grid(b=None, which='major', axis='both')"
   ]
  },
  {
   "cell_type": "markdown",
   "metadata": {},
   "source": [
    "#### Latitude vs. Humidity Plot"
   ]
  },
  {
   "cell_type": "code",
   "execution_count": null,
   "metadata": {},
   "outputs": [],
   "source": [
    "#defines variable to plot\n",
    "humidity = city_data_df[\"Humidity\"]\n",
    "#create plot\n",
    "plt.scatter(latitude, humidity, s=40, c=\"darkseagreen\", edgecolors = \"black\", alpha = .75)\n",
    "#set labels, titles, and other styling\n",
    "plt.title(f\"City Latitude vs. Humidity ({date})\")\n",
    "plt.xlabel(\"Latitude\")\n",
    "plt.ylabel(\"Humidity (%)\")\n",
    "plt.grid(b=None, which='major', axis='both')"
   ]
  },
  {
   "cell_type": "markdown",
   "metadata": {},
   "source": [
    "#### Latitude vs. Cloudiness Plot"
   ]
  },
  {
   "cell_type": "code",
   "execution_count": null,
   "metadata": {},
   "outputs": [],
   "source": [
    "#defines variable to plot\n",
    "cloudiness = city_data_df[\"Cloudiness\"]\n",
    "#create plot\n",
    "plt.scatter(latitude, cloudiness, s=40, c=\"cadetblue\", edgecolors = \"black\", alpha = .75)\n",
    "#set labels, titles, and other styling\n",
    "plt.title(f\"City Latitude vs. Cloudiness ({date})\")\n",
    "plt.xlabel(\"Latitude\")\n",
    "plt.ylabel(\"Cloudiness (%)\")\n",
    "plt.grid(b=None, which='major', axis='both')"
   ]
  },
  {
   "cell_type": "markdown",
   "metadata": {},
   "source": [
    "#### Latitude vs. Wind Speed Plot"
   ]
  },
  {
   "cell_type": "code",
   "execution_count": null,
   "metadata": {},
   "outputs": [],
   "source": [
    "#defines variable to plot\n",
    "wind_speed = city_data_df[\"Wind Speed\"]\n",
    "#create plot\n",
    "plt.scatter(latitude, wind_speed, s=40, c=\"indianred\", edgecolors = \"black\", alpha = .75)\n",
    "#set labels, titles, and other styling\n",
    "plt.title(f\"City Latitude vs. Wind Speed ({date})\")\n",
    "plt.xlabel(\"Latitude\")\n",
    "plt.ylabel(\"Wind Speed (mph)\")\n",
    "plt.grid(b=None, which='major', axis='both')"
   ]
  },
  {
   "cell_type": "markdown",
   "metadata": {},
   "source": [
    "## Linear Regression"
   ]
  },
  {
   "cell_type": "code",
   "execution_count": null,
   "metadata": {},
   "outputs": [],
   "source": [
    "# OPTIONAL: Create a function to create Linear Regression plots\n",
    "'''\n",
    "(slope, intercept, rvalue, pvalue, stderr) = st.linregress(x_axis, y_axis)\n",
    "regress_values = x_axis * slope + intercept\n",
    "line_eq = \"y = \" + str(round(slope,2)) + \"x + \" + str(round(intercept,2))\n",
    "'''\n",
    "\n",
    "def lin_reg(x_axis, y_axis):\n",
    "    (slope, intercept, rvalue, pvalue, stderr) = linregress(x_axis, y_axis)\n",
    "    regress_values = x_axis * slope + intercept\n",
    "    line_eq = \"y = \" + str(round(slope,2)) + \"x + \" + str(round(intercept,2))\n",
    "    plt.plot(x_axis, regress_values, \"black\")\n",
    "    plt.show\n",
    "    return print(f\"The value of r-squares is {rvalue**2}.\") \n",
    "    return print(\"The line equation: {line_eq}.\")\n",
    "\n"
   ]
  },
  {
   "cell_type": "code",
   "execution_count": null,
   "metadata": {},
   "outputs": [],
   "source": [
    "# Create Northern and Southern Hemisphere DataFrames\n",
    "northern_df = city_data_df.loc[city_data_df[\"Lat\"] >= 0]\n",
    "southern_df = city_data_df.loc[city_data_df[\"Lat\"] < 0]\n",
    "\n",
    "northern_df"
   ]
  },
  {
   "cell_type": "code",
   "execution_count": null,
   "metadata": {},
   "outputs": [],
   "source": [
    "southern_df"
   ]
  },
  {
   "cell_type": "markdown",
   "metadata": {},
   "source": [
    "####  Northern Hemisphere - Max Temp vs. Latitude Linear Regression"
   ]
  },
  {
   "cell_type": "code",
   "execution_count": null,
   "metadata": {},
   "outputs": [],
   "source": [
    "#defines variable to plot\n",
    "n_max_temp = northern_df[\"Max Temp\"]\n",
    "n_latitude = northern_df[\"Lat\"]\n",
    "\n",
    "#create plot\n",
    "plt.scatter(n_latitude, n_max_temp, s=40, c=\"slateblue\", edgecolors = \"black\", alpha = .75)\n",
    "#set labels, titles, and other styling\n",
    "plt.title(f\"City Latitude vs. Temperature in Northern Hemisphere({date})\")\n",
    "plt.xlabel(\"Latitude\")\n",
    "plt.ylabel(\"Max Temp (F)\")\n",
    "plt.show()"
   ]
  },
  {
   "cell_type": "markdown",
   "metadata": {},
   "source": [
    "####  Southern Hemisphere - Max Temp vs. Latitude Linear Regression"
   ]
  },
  {
   "cell_type": "code",
   "execution_count": null,
   "metadata": {},
   "outputs": [],
   "source": [
    "#defines variable to plot\n",
    "s_max_temp = southern_df[\"Max Temp\"]\n",
    "s_latitude = southern_df[\"Lat\"]\n",
    "\n",
    "#create plot\n",
    "plt.scatter(s_latitude, s_max_temp, s=40, c=\"slateblue\", edgecolors = \"black\", alpha = .75)\n",
    "#set labels, titles, and other styling\n",
    "plt.title(f\"City Latitude vs. Temperature in Southern Hemisphere({date})\")\n",
    "plt.xlabel(\"Latitude\")\n",
    "plt.ylabel(\"Max Temp (F)\")\n",
    "plt.show()"
   ]
  },
  {
   "cell_type": "markdown",
   "metadata": {},
   "source": [
    "####  Northern Hemisphere - Humidity (%) vs. Latitude Linear Regression"
   ]
  },
  {
   "cell_type": "code",
   "execution_count": null,
   "metadata": {},
   "outputs": [],
   "source": [
    "#defines variable to plot\n",
    "n_humidity = northern_df[\"Humidity\"]\n",
    "#create plot\n",
    "plt.scatter(n_latitude, n_humidity, s=40, c=\"darkseagreen\", edgecolors = \"black\", alpha = .75)\n",
    "#set labels, titles, and other styling\n",
    "plt.title(f\"City Latitude vs. Humidity in Northern Hemisphere({date})\")\n",
    "plt.xlabel(\"Latitude\")\n",
    "plt.ylabel(\"Humidity (%)\")\n",
    "plt.show()"
   ]
  },
  {
   "cell_type": "markdown",
   "metadata": {},
   "source": [
    "####  Southern Hemisphere - Humidity (%) vs. Latitude Linear Regression"
   ]
  },
  {
   "cell_type": "code",
   "execution_count": null,
   "metadata": {},
   "outputs": [],
   "source": [
    "#defines variable to plot\n",
    "s_humidity = southern_df[\"Humidity\"]\n",
    "#create plot\n",
    "plt.scatter(s_latitude, s_humidity, s=40, c=\"darkseagreen\", edgecolors = \"black\", alpha = .75)\n",
    "#set labels, titles, and other styling\n",
    "plt.title(f\"City Latitude vs. Humidity in Southern Hemisphere({date})\")\n",
    "plt.xlabel(\"Latitude\")\n",
    "plt.ylabel(\"Humidity (%)\")\n",
    "plt.show()"
   ]
  },
  {
   "cell_type": "markdown",
   "metadata": {},
   "source": [
    "####  Northern Hemisphere - Cloudiness (%) vs. Latitude Linear Regression"
   ]
  },
  {
   "cell_type": "code",
   "execution_count": null,
   "metadata": {},
   "outputs": [],
   "source": [
    "#defines variable to plot\n",
    "n_cloudiness = northern_df[\"Cloudiness\"]\n",
    "#create plot\n",
    "plt.scatter(n_latitude, n_cloudiness, s=40, c=\"cadetblue\", edgecolors = \"black\", alpha = .75)\n",
    "#set labels, titles, and other styling\n",
    "plt.title(f\"City Latitude vs. Cloudiness in Northern Hemisphere({date})\")\n",
    "plt.xlabel(\"Latitude\")\n",
    "plt.ylabel(\"Cloudiness (%)\")\n",
    "plt.show()"
   ]
  },
  {
   "cell_type": "markdown",
   "metadata": {},
   "source": [
    "####  Southern Hemisphere - Cloudiness (%) vs. Latitude Linear Regression"
   ]
  },
  {
   "cell_type": "code",
   "execution_count": null,
   "metadata": {},
   "outputs": [],
   "source": [
    "#defines variable to plot\n",
    "s_cloudiness = southern_df[\"Cloudiness\"]\n",
    "#create plot\n",
    "plt.scatter(s_latitude, s_cloudiness, s=40, c=\"cadetblue\", edgecolors = \"black\", alpha = .75)\n",
    "#set labels, titles, and other styling\n",
    "plt.title(f\"City Latitude vs. Cloudiness in Southern Hemisphere({date})\")\n",
    "plt.xlabel(\"Latitude\")\n",
    "plt.ylabel(\"Cloudiness (%)\")\n",
    "plt.show()"
   ]
  },
  {
   "cell_type": "markdown",
   "metadata": {},
   "source": [
    "####  Northern Hemisphere - Wind Speed (mph) vs. Latitude Linear Regression"
   ]
  },
  {
   "cell_type": "code",
   "execution_count": null,
   "metadata": {},
   "outputs": [],
   "source": [
    "#defines variable to plot\n",
    "n_wind_speed = northern_df[\"Wind Speed\"]\n",
    "#create plot\n",
    "plt.scatter(n_latitude, n_wind_speed, s=40, c=\"indianred\", edgecolors = \"black\", alpha = .75)\n",
    "#set labels, titles, and other styling\n",
    "plt.title(f\"City Latitude vs. Wind Speed in Northern Hemisphere ({date})\")\n",
    "plt.xlabel(\"Latitude\")\n",
    "plt.ylabel(\"Wind Speed (mph)\")\n",
    "plt.show()"
   ]
  },
  {
   "cell_type": "markdown",
   "metadata": {},
   "source": [
    "####  Southern Hemisphere - Wind Speed (mph) vs. Latitude Linear Regression"
   ]
  },
  {
   "cell_type": "code",
   "execution_count": null,
   "metadata": {},
   "outputs": [],
   "source": [
    "#defines variable to plot\n",
    "s_wind_speed = southern_df[\"Wind Speed\"]\n",
    "#create plot\n",
    "plt.scatter(s_latitude, s_wind_speed, s=40, c=\"indianred\", edgecolors = \"black\", alpha = .75)\n",
    "#set labels, titles, and other styling\n",
    "plt.title(f\"City Latitude vs. Wind Speed in Southern Hemisphere ({date})\")\n",
    "plt.xlabel(\"Latitude\")\n",
    "plt.ylabel(\"Wind Speed (mph)\")\n",
    "plt.show()\n",
    "#linear regression\n",
    "lin_reg(s_latitude, s_wind_speed)"
   ]
  },
  {
   "cell_type": "code",
   "execution_count": null,
   "metadata": {},
   "outputs": [],
   "source": []
  }
 ],
 "metadata": {
  "anaconda-cloud": {},
  "kernel_info": {
   "name": "python3"
  },
  "kernelspec": {
   "display_name": "Python 3.6.10 64-bit ('PythonData': conda)",
   "language": "python",
   "name": "python361064bitpythondatacondadb2210027ea442b2a841007fdc5be7f3"
  },
  "language_info": {
   "codemirror_mode": {
    "name": "ipython",
    "version": 3
   },
   "file_extension": ".py",
   "mimetype": "text/x-python",
   "name": "python",
   "nbconvert_exporter": "python",
   "pygments_lexer": "ipython3",
   "version": "3.6.10"
  },
  "latex_envs": {
   "LaTeX_envs_menu_present": true,
   "autoclose": false,
   "autocomplete": true,
   "bibliofile": "biblio.bib",
   "cite_by": "apalike",
   "current_citInitial": 1,
   "eqLabelWithNumbers": true,
   "eqNumInitial": 1,
   "hotkeys": {
    "equation": "Ctrl-E",
    "itemize": "Ctrl-I"
   },
   "labels_anchors": false,
   "latex_user_defs": false,
   "report_style_numbering": false,
   "user_envs_cfg": false
  },
  "nteract": {
   "version": "0.12.3"
  }
 },
 "nbformat": 4,
 "nbformat_minor": 2
}
