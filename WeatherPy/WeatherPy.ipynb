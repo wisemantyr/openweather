{
 "cells": [
  {
   "cell_type": "markdown",
   "metadata": {},
   "source": [
    "# WeatherPy\n",
    "----\n",
    "\n",
    "#### Note\n",
    "* Instructions have been included for each segment. You do not have to follow them exactly, but they are included to help you think through the steps."
   ]
  },
  {
   "cell_type": "code",
   "execution_count": 4,
   "metadata": {
    "scrolled": true
   },
   "outputs": [
    {
     "ename": "ModuleNotFoundError",
     "evalue": "No module named 'filepath'",
     "output_type": "error",
     "traceback": [
      "\u001b[1;31m---------------------------------------------------------------------------\u001b[0m",
      "\u001b[1;31mModuleNotFoundError\u001b[0m                       Traceback (most recent call last)",
      "\u001b[1;32m<ipython-input-4-525e57305ee6>\u001b[0m in \u001b[0;36m<module>\u001b[1;34m\u001b[0m\n\u001b[0;32m     10\u001b[0m \u001b[0mfilepath\u001b[0m \u001b[1;33m=\u001b[0m \u001b[1;34m\"../api_keys\"\u001b[0m\u001b[1;33m\u001b[0m\u001b[1;33m\u001b[0m\u001b[0m\n\u001b[0;32m     11\u001b[0m \u001b[1;31m# Import API key\u001b[0m\u001b[1;33m\u001b[0m\u001b[1;33m\u001b[0m\u001b[1;33m\u001b[0m\u001b[0m\n\u001b[1;32m---> 12\u001b[1;33m \u001b[1;32mfrom\u001b[0m \u001b[0mfilepath\u001b[0m \u001b[1;32mimport\u001b[0m \u001b[0mopen_weather_key\u001b[0m\u001b[1;33m\u001b[0m\u001b[1;33m\u001b[0m\u001b[0m\n\u001b[0m\u001b[0;32m     13\u001b[0m \u001b[1;33m\u001b[0m\u001b[0m\n\u001b[0;32m     14\u001b[0m \u001b[1;31m# Incorporated citipy to determine city based on latitude and longitude\u001b[0m\u001b[1;33m\u001b[0m\u001b[1;33m\u001b[0m\u001b[1;33m\u001b[0m\u001b[0m\n",
      "\u001b[1;31mModuleNotFoundError\u001b[0m: No module named 'filepath'"
     ]
    }
   ],
   "source": [
    "# Dependencies and Setup\n",
    "import matplotlib.pyplot as plt\n",
    "import pandas as pd\n",
    "import numpy as np\n",
    "import requests\n",
    "import time\n",
    "from scipy.stats import linregress\n",
    "import json\n",
    "import os\n",
    "\n",
    "filepath = \"../api_keys\"\n",
    "# Import API key\n",
    "from filepath import open_weather_key\n",
    "\n",
    "# Incorporated citipy to determine city based on latitude and longitude\n",
    "from citipy import citipy\n",
    "\n",
    "\n",
    "# Range of latitudes and longitudes\n",
    "lat_range = (-90, 90)\n",
    "lng_range = (-180, 180)"
   ]
  },
  {
   "cell_type": "markdown",
   "metadata": {},
   "source": [
    "## Generate Cities List"
   ]
  },
  {
   "cell_type": "code",
   "execution_count": null,
   "metadata": {},
   "outputs": [],
   "source": [
    "# List for holding lat_lngs and cities\n",
    "lat_lngs = []\n",
    "cities = []\n",
    "\n",
    "# Create a set of random lat and lng combinations\n",
    "lats = np.random.uniform(low=-90.000, high=90.000, size=1500)\n",
    "lngs = np.random.uniform(low=-180.000, high=180.000, size=1500)\n",
    "lat_lngs = zip(lats, lngs)\n",
    "\n",
    "# Identify nearest city for each lat, lng combination\n",
    "for lat_lng in lat_lngs:\n",
    "    city = citipy.nearest_city(lat_lng[0], lat_lng[1]).city_name\n",
    "    \n",
    "    # If the city is unique, then add it to a our cities list\n",
    "    if city not in cities:\n",
    "        cities.append(city)\n",
    "\n",
    "# Print the city count to confirm sufficient count\n",
    "len(cities)"
   ]
  },
  {
   "cell_type": "markdown",
   "metadata": {},
   "source": [
    "### Perform API Calls\n",
    "* Perform a weather check on each city using a series of successive API calls.\n",
    "* Include a print log of each city as it'sbeing processed (with the city number and city name).\n"
   ]
  },
  {
   "cell_type": "code",
   "execution_count": null,
   "metadata": {},
   "outputs": [],
   "source": [
    "#define base and query URL\n",
    "units = \"imperial\"\n",
    "url = \"http://api.openweathermap.org/data/2.5/weather?\"\n",
    "query_url = f\"{url}appid={open_weather_key}&q={cities[0]}&units={units}\"\n",
    "\n",
    "#get response\n",
    "response = requests.get(query_url).json()\n",
    "\n",
    "#print response and analyze format\n",
    "response\n"
   ]
  },
  {
   "cell_type": "code",
   "execution_count": null,
   "metadata": {},
   "outputs": [],
   "source": [
    "#create summary dict\n",
    "data = {\"City\": [],\n",
    "       \"Cloudiness\": [],\n",
    "       \"Country\": [],\n",
    "       \"Date\": [],\n",
    "       \"Humidity\": [],\n",
    "       \"Lat\": [],\n",
    "       \"Lng\": [],\n",
    "       \"Max Temp\": [],\n",
    "       \"Wind Speed\": []}\n",
    "\n",
    "#set counts for print statment in loop\n",
    "number = 0\n",
    "sets = 1\n",
    "\n",
    "#loop through cities in list\n",
    "for item in cities:\n",
    "    try:\n",
    "        #redefine query_url and response for each city in the loop\n",
    "        query_url = f\"{url}appid={open_weather_key}&q={item}&units={units}\"\n",
    "        response = requests.get(query_url).json()\n",
    "        #update print statement count and print\n",
    "        number = number + 1\n",
    "        print(f\"Processing Record {number} of Set {sets} | {item}\")\n",
    "        #append summary dict with appropriate data\n",
    "        data[\"City\"].append(response['name'])\n",
    "        data[\"Cloudiness\"].append(response['clouds']['all'])\n",
    "        data[\"Country\"].append(response['sys']['country'])\n",
    "        data[\"Date\"].append(response['dt'])\n",
    "        data[\"Humidity\"].append(response['main']['humidity'])\n",
    "        data[\"Lat\"].append(response['coord']['lat'])\n",
    "        data[\"Lng\"].append(response['coord']['lon'])\n",
    "        data[\"Max Temp\"].append(response['main']['temp_max'])\n",
    "        data[\"Wind Speed\"].append(response['wind']['speed'])\n",
    "    #create exception\n",
    "    except:\n",
    "        print(\"City not found. Skipping ...\")\n",
    "    #reset set counts after 50 records\n",
    "    if number == 50:\n",
    "        sets = sets+1\n",
    "        number = 0\n",
    "    #limit API requests\n",
    "    time.sleep(1)"
   ]
  },
  {
   "cell_type": "markdown",
   "metadata": {},
   "source": [
    "### Convert Raw Data to DataFrame\n",
    "* Export the city data into a .csv.\n",
    "* Display the DataFrame"
   ]
  },
  {
   "cell_type": "code",
   "execution_count": null,
   "metadata": {},
   "outputs": [],
   "source": [
    "#convert summary dict to dataframe and display\n",
    "city_data_df = pd.DataFrame(data)\n",
    "city_data_df"
   ]
  },
  {
   "cell_type": "code",
   "execution_count": null,
   "metadata": {},
   "outputs": [],
   "source": [
    "#export dataframe to CSV file\n",
    "city_data_df.to_csv(\"Output/city_data.csv\",\n",
    "                  encoding=\"utf-8\", index=False, header=True)"
   ]
  },
  {
   "cell_type": "markdown",
   "metadata": {},
   "source": [
    "### Plotting the Data\n",
    "* Use proper labeling of the plots using plot titles (including date of analysis) and axes labels.\n",
    "* Save the plotted figures as .pngs."
   ]
  },
  {
   "cell_type": "markdown",
   "metadata": {},
   "source": [
    "#### Latitude vs. Temperature Plot"
   ]
  },
  {
   "cell_type": "code",
   "execution_count": null,
   "metadata": {
    "scrolled": true
   },
   "outputs": [],
   "source": [
    "#defines variable to plot\n",
    "max_temp = city_data_df[\"Max Temp\"]\n",
    "latitude = city_data_df[\"Lat\"]\n",
    "#set date\n",
    "city_data_df['Date'] = pd.to_datetime(city_data_df['Date'],unit='s')\n",
    "date = city_data_df[\"Date\"][0]\n",
    "#create plot\n",
    "plt.scatter(latitude, max_temp, s=40, c=\"slateblue\", edgecolors = \"black\", alpha = .75)\n",
    "#set labels, titles, and other styling\n",
    "plt.title(f\"City Latitude vs. Temperature ({date})\")\n",
    "plt.xlabel(\"Latitude\")\n",
    "plt.ylabel(\"Max Temp (F)\")\n",
    "plt.grid(b=None, which='major', axis='both')"
   ]
  },
  {
   "cell_type": "markdown",
   "metadata": {},
   "source": [
    "#### Latitude vs. Humidity Plot"
   ]
  },
  {
   "cell_type": "code",
   "execution_count": null,
   "metadata": {},
   "outputs": [],
   "source": [
    "#defines variable to plot\n",
    "humidity = city_data_df[\"Humidity\"]\n",
    "#create plot\n",
    "plt.scatter(latitude, humidity, s=40, c=\"darkseagreen\", edgecolors = \"black\", alpha = .75)\n",
    "#set labels, titles, and other styling\n",
    "plt.title(f\"City Latitude vs. Humidity ({date})\")\n",
    "plt.xlabel(\"Latitude\")\n",
    "plt.ylabel(\"Humidity (%)\")\n",
    "plt.grid(b=None, which='major', axis='both')"
   ]
  },
  {
   "cell_type": "markdown",
   "metadata": {},
   "source": [
    "#### Latitude vs. Cloudiness Plot"
   ]
  },
  {
   "cell_type": "code",
   "execution_count": null,
   "metadata": {},
   "outputs": [],
   "source": [
    "#defines variable to plot\n",
    "cloudiness = city_data_df[\"Cloudiness\"]\n",
    "#create plot\n",
    "plt.scatter(latitude, cloudiness, s=40, c=\"cadetblue\", edgecolors = \"black\", alpha = .75)\n",
    "#set labels, titles, and other styling\n",
    "plt.title(f\"City Latitude vs. Cloudiness ({date})\")\n",
    "plt.xlabel(\"Latitude\")\n",
    "plt.ylabel(\"Cloudiness (%)\")\n",
    "plt.grid(b=None, which='major', axis='both')"
   ]
  },
  {
   "cell_type": "markdown",
   "metadata": {},
   "source": [
    "#### Latitude vs. Wind Speed Plot"
   ]
  },
  {
   "cell_type": "code",
   "execution_count": null,
   "metadata": {},
   "outputs": [],
   "source": [
    "#defines variable to plot\n",
    "wind_speed = city_data_df[\"Wind Speed\"]\n",
    "#create plot\n",
    "plt.scatter(latitude, wind_speed, s=40, c=\"indianred\", edgecolors = \"black\", alpha = .75)\n",
    "#set labels, titles, and other styling\n",
    "plt.title(f\"City Latitude vs. Wind Speed ({date})\")\n",
    "plt.xlabel(\"Latitude\")\n",
    "plt.ylabel(\"Wind Speed (mph)\")\n",
    "plt.grid(b=None, which='major', axis='both')"
   ]
  },
  {
   "cell_type": "markdown",
   "metadata": {},
   "source": [
    "## Linear Regression"
   ]
  },
  {
   "cell_type": "code",
   "execution_count": null,
   "metadata": {},
   "outputs": [],
   "source": [
    "# OPTIONAL: Create a function to create Linear Regression plots\n",
    "'''\n",
    "(slope, intercept, rvalue, pvalue, stderr) = st.linregress(x_axis, y_axis)\n",
    "regress_values = x_axis * slope + intercept\n",
    "line_eq = \"y = \" + str(round(slope,2)) + \"x + \" + str(round(intercept,2))\n",
    "'''\n",
    "\n",
    "def lin_reg(x_axis, y_axis):\n",
    "    (slope, intercept, rvalue, pvalue, stderr) = linregress(x_axis, y_axis)\n",
    "    regress_values = x_axis * slope + intercept\n",
    "    line_eq = \"y = \" + str(round(slope,2)) + \"x + \" + str(round(intercept,2))\n",
    "    plt.plot(x_axis, regress_values, \"black\")\n",
    "    plt.show\n",
    "    return print(f\"The value of r-squares is {rvalue**2}.\") \n",
    "    return print(\"The line equation: {line_eq}.\")\n",
    "\n"
   ]
  },
  {
   "cell_type": "code",
   "execution_count": null,
   "metadata": {},
   "outputs": [],
   "source": [
    "# Create Northern and Southern Hemisphere DataFrames\n",
    "northern_df = city_data_df.loc[city_data_df[\"Lat\"] >= 0]\n",
    "southern_df = city_data_df.loc[city_data_df[\"Lat\"] < 0]\n",
    "\n",
    "northern_df"
   ]
  },
  {
   "cell_type": "code",
   "execution_count": null,
   "metadata": {},
   "outputs": [],
   "source": [
    "southern_df"
   ]
  },
  {
   "cell_type": "markdown",
   "metadata": {},
   "source": [
    "####  Northern Hemisphere - Max Temp vs. Latitude Linear Regression"
   ]
  },
  {
   "cell_type": "code",
   "execution_count": null,
   "metadata": {},
   "outputs": [],
   "source": [
    "#defines variable to plot\n",
    "n_max_temp = northern_df[\"Max Temp\"]\n",
    "n_latitude = northern_df[\"Lat\"]\n",
    "\n",
    "#create plot\n",
    "plt.scatter(n_latitude, n_max_temp, s=40, c=\"slateblue\", edgecolors = \"black\", alpha = .75)\n",
    "#set labels, titles, and other styling\n",
    "plt.title(f\"City Latitude vs. Temperature in Northern Hemisphere({date})\")\n",
    "plt.xlabel(\"Latitude\")\n",
    "plt.ylabel(\"Max Temp (F)\")\n",
    "plt.show()"
   ]
  },
  {
   "cell_type": "markdown",
   "metadata": {},
   "source": [
    "####  Southern Hemisphere - Max Temp vs. Latitude Linear Regression"
   ]
  },
  {
   "cell_type": "code",
   "execution_count": null,
   "metadata": {},
   "outputs": [],
   "source": [
    "#defines variable to plot\n",
    "s_max_temp = southern_df[\"Max Temp\"]\n",
    "s_latitude = southern_df[\"Lat\"]\n",
    "\n",
    "#create plot\n",
    "plt.scatter(s_latitude, s_max_temp, s=40, c=\"slateblue\", edgecolors = \"black\", alpha = .75)\n",
    "#set labels, titles, and other styling\n",
    "plt.title(f\"City Latitude vs. Temperature in Southern Hemisphere({date})\")\n",
    "plt.xlabel(\"Latitude\")\n",
    "plt.ylabel(\"Max Temp (F)\")\n",
    "plt.show()"
   ]
  },
  {
   "cell_type": "markdown",
   "metadata": {},
   "source": [
    "####  Northern Hemisphere - Humidity (%) vs. Latitude Linear Regression"
   ]
  },
  {
   "cell_type": "code",
   "execution_count": null,
   "metadata": {},
   "outputs": [],
   "source": [
    "#defines variable to plot\n",
    "n_humidity = northern_df[\"Humidity\"]\n",
    "#create plot\n",
    "plt.scatter(n_latitude, n_humidity, s=40, c=\"darkseagreen\", edgecolors = \"black\", alpha = .75)\n",
    "#set labels, titles, and other styling\n",
    "plt.title(f\"City Latitude vs. Humidity in Northern Hemisphere({date})\")\n",
    "plt.xlabel(\"Latitude\")\n",
    "plt.ylabel(\"Humidity (%)\")\n",
    "plt.show()"
   ]
  },
  {
   "cell_type": "markdown",
   "metadata": {},
   "source": [
    "####  Southern Hemisphere - Humidity (%) vs. Latitude Linear Regression"
   ]
  },
  {
   "cell_type": "code",
   "execution_count": null,
   "metadata": {},
   "outputs": [],
   "source": [
    "#defines variable to plot\n",
    "s_humidity = southern_df[\"Humidity\"]\n",
    "#create plot\n",
    "plt.scatter(s_latitude, s_humidity, s=40, c=\"darkseagreen\", edgecolors = \"black\", alpha = .75)\n",
    "#set labels, titles, and other styling\n",
    "plt.title(f\"City Latitude vs. Humidity in Southern Hemisphere({date})\")\n",
    "plt.xlabel(\"Latitude\")\n",
    "plt.ylabel(\"Humidity (%)\")\n",
    "plt.show()"
   ]
  },
  {
   "cell_type": "markdown",
   "metadata": {},
   "source": [
    "####  Northern Hemisphere - Cloudiness (%) vs. Latitude Linear Regression"
   ]
  },
  {
   "cell_type": "code",
   "execution_count": null,
   "metadata": {},
   "outputs": [],
   "source": [
    "#defines variable to plot\n",
    "n_cloudiness = northern_df[\"Cloudiness\"]\n",
    "#create plot\n",
    "plt.scatter(n_latitude, n_cloudiness, s=40, c=\"cadetblue\", edgecolors = \"black\", alpha = .75)\n",
    "#set labels, titles, and other styling\n",
    "plt.title(f\"City Latitude vs. Cloudiness in Northern Hemisphere({date})\")\n",
    "plt.xlabel(\"Latitude\")\n",
    "plt.ylabel(\"Cloudiness (%)\")\n",
    "plt.show()"
   ]
  },
  {
   "cell_type": "markdown",
   "metadata": {},
   "source": [
    "####  Southern Hemisphere - Cloudiness (%) vs. Latitude Linear Regression"
   ]
  },
  {
   "cell_type": "code",
   "execution_count": null,
   "metadata": {},
   "outputs": [],
   "source": [
    "#defines variable to plot\n",
    "s_cloudiness = southern_df[\"Cloudiness\"]\n",
    "#create plot\n",
    "plt.scatter(s_latitude, s_cloudiness, s=40, c=\"cadetblue\", edgecolors = \"black\", alpha = .75)\n",
    "#set labels, titles, and other styling\n",
    "plt.title(f\"City Latitude vs. Cloudiness in Southern Hemisphere({date})\")\n",
    "plt.xlabel(\"Latitude\")\n",
    "plt.ylabel(\"Cloudiness (%)\")\n",
    "plt.show()"
   ]
  },
  {
   "cell_type": "markdown",
   "metadata": {},
   "source": [
    "####  Northern Hemisphere - Wind Speed (mph) vs. Latitude Linear Regression"
   ]
  },
  {
   "cell_type": "code",
   "execution_count": null,
   "metadata": {},
   "outputs": [],
   "source": [
    "#defines variable to plot\n",
    "n_wind_speed = northern_df[\"Wind Speed\"]\n",
    "#create plot\n",
    "plt.scatter(n_latitude, n_wind_speed, s=40, c=\"indianred\", edgecolors = \"black\", alpha = .75)\n",
    "#set labels, titles, and other styling\n",
    "plt.title(f\"City Latitude vs. Wind Speed in Northern Hemisphere ({date})\")\n",
    "plt.xlabel(\"Latitude\")\n",
    "plt.ylabel(\"Wind Speed (mph)\")\n",
    "plt.show()"
   ]
  },
  {
   "cell_type": "markdown",
   "metadata": {},
   "source": [
    "####  Southern Hemisphere - Wind Speed (mph) vs. Latitude Linear Regression"
   ]
  },
  {
   "cell_type": "code",
   "execution_count": null,
   "metadata": {},
   "outputs": [],
   "source": [
    "#defines variable to plot\n",
    "s_wind_speed = southern_df[\"Wind Speed\"]\n",
    "#create plot\n",
    "plt.scatter(s_latitude, s_wind_speed, s=40, c=\"indianred\", edgecolors = \"black\", alpha = .75)\n",
    "#set labels, titles, and other styling\n",
    "plt.title(f\"City Latitude vs. Wind Speed in Southern Hemisphere ({date})\")\n",
    "plt.xlabel(\"Latitude\")\n",
    "plt.ylabel(\"Wind Speed (mph)\")\n",
    "plt.show()\n",
    "#linear regression\n",
    "lin_reg(s_latitude, s_wind_speed)"
   ]
  },
  {
   "cell_type": "code",
   "execution_count": null,
   "metadata": {},
   "outputs": [],
   "source": []
  }
 ],
 "metadata": {
  "anaconda-cloud": {},
  "kernel_info": {
   "name": "python3"
  },
  "kernelspec": {
   "display_name": "Python 3.6.10 64-bit ('PythonData': conda)",
   "language": "python",
   "name": "python361064bitpythondatacondadb2210027ea442b2a841007fdc5be7f3"
  },
  "language_info": {
   "codemirror_mode": {
    "name": "ipython",
    "version": 3
   },
   "file_extension": ".py",
   "mimetype": "text/x-python",
   "name": "python",
   "nbconvert_exporter": "python",
   "pygments_lexer": "ipython3",
   "version": "3.6.10"
  },
  "latex_envs": {
   "LaTeX_envs_menu_present": true,
   "autoclose": false,
   "autocomplete": true,
   "bibliofile": "biblio.bib",
   "cite_by": "apalike",
   "current_citInitial": 1,
   "eqLabelWithNumbers": true,
   "eqNumInitial": 1,
   "hotkeys": {
    "equation": "Ctrl-E",
    "itemize": "Ctrl-I"
   },
   "labels_anchors": false,
   "latex_user_defs": false,
   "report_style_numbering": false,
   "user_envs_cfg": false
  },
  "nteract": {
   "version": "0.12.3"
  }
 },
 "nbformat": 4,
 "nbformat_minor": 2
}
